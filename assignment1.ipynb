{
 "cells": [
  {
   "cell_type": "code",
   "execution_count": null,
   "metadata": {},
   "outputs": [],
   "source": []
  },
  {
   "cell_type": "code",
   "execution_count": 28,
   "metadata": {},
   "outputs": [
    {
     "name": "stdout",
     "output_type": "stream",
     "text": [
      "Its assignment no. 1 \n",
      "variables\n",
      "sum = 17.6\n",
      "subtract = 5.6\n",
      "multiply = 69.6\n",
      "divide_float = 1.9333333333333333\n",
      "divide_int= 1.0\n",
      "a is greater than b\n",
      "end of the code end of assignment\n"
     ]
    }
   ],
   "source": [
    "print('Its assignment no. 1 ')\n",
    "\n",
    "print('variables')\n",
    "a=11.6 #float\n",
    "b=6    #integer\n",
    "print('sum =',a+b) #addition\n",
    "print('subtract =',a-b) #subtraction\n",
    "print('multiply =',a*b) #muliplcation\n",
    "f=a/b #division on flaot using variable method\n",
    "print('divide_float =',f)\n",
    "g=a//b # division to get integer answer\n",
    "print('divide_int=',g)\n",
    "\n",
    "if a>b:\n",
    "    print('a is greater than b')\n",
    "else:\n",
    "    print(' a is less than b')\n",
    "    \n",
    "print('end of the code'+' end of assignment')\n",
    "\n"
   ]
  },
  {
   "cell_type": "code",
   "execution_count": null,
   "metadata": {},
   "outputs": [],
   "source": []
  },
  {
   "cell_type": "code",
   "execution_count": null,
   "metadata": {},
   "outputs": [],
   "source": []
  }
 ],
 "metadata": {
  "kernelspec": {
   "display_name": "Python 3",
   "language": "python",
   "name": "python3"
  },
  "language_info": {
   "codemirror_mode": {
    "name": "ipython",
    "version": 3
   },
   "file_extension": ".py",
   "mimetype": "text/x-python",
   "name": "python",
   "nbconvert_exporter": "python",
   "pygments_lexer": "ipython3",
   "version": "3.7.4"
  }
 },
 "nbformat": 4,
 "nbformat_minor": 2
}
